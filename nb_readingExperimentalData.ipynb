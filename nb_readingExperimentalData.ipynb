{
 "cells": [
  {
   "cell_type": "markdown",
   "metadata": {},
   "source": [
    "# Reading experimental data files"
   ]
  },
  {
   "cell_type": "markdown",
   "metadata": {},
   "source": [
    "CGMF python utilities come with the capability of reading experimental data sets saved in <a  href=\"https://www.json.org\" target=\"_new\">JSON</a> (JavaScript Object Notation) format. Simple routines exist to read and plot experimental data sets for a given physical quantity."
   ]
  },
  {
   "cell_type": "code",
   "execution_count": 2,
   "metadata": {},
   "outputs": [],
   "source": [
    "import sys\n",
    "sys.path.append('/Users/talou/git/evaluation-tools/')\n",
    "import fission as fission"
   ]
  },
  {
   "cell_type": "markdown",
   "metadata": {},
   "source": [
    "### Reading a JSON file"
   ]
  },
  {
   "cell_type": "markdown",
   "metadata": {},
   "source": [
    "You can read a JSON-formatted file and save its content in a JSON object:"
   ]
  },
  {
   "cell_type": "code",
   "execution_count": 10,
   "metadata": {},
   "outputs": [],
   "source": [
    "exp = fission.readJSONDataFile (\"/Users/talou/git/cgmf/exp/data-98252sf.json\")"
   ]
  },
  {
   "cell_type": "markdown",
   "metadata": {},
   "source": [
    "Listing the contents of the 'exp' object:"
   ]
  },
  {
   "cell_type": "code",
   "execution_count": 11,
   "metadata": {},
   "outputs": [
    {
     "name": "stdout",
     "output_type": "stream",
     "text": [
      "YA         |  F.-J. Hambsch, S. Oberstedt, P. Siegler, J. van Arle, R. Vogt, 1997\n",
      "YA         |  C. Budtz-Joergensen and H.-H. Knitter, 1988\n",
      "YA         |  A. Gook, F.-J. Hambsch, M. Vidali, 2014\n",
      "YA         |  Sh. Zeynalov, F.-J.Hambsch, et al., 2011\n",
      "YZ         |  Wahl, 1987\n",
      "TKEA       |  Gook, 2014\n",
      "SIGTKEA    |  A. Gook et al., 2014\n",
      "Pnu        |  P. Santi and M. Miller, 2008\n",
      "PFNS       |  W. Mannhart, 1989\n",
      "PFNS2      |  W. Mannhart, 1989\n",
      "nubarA     |  Vorobyev et al., 2004\n",
      "EcmA       |  Budtz-Jorgensen and Knitter, 1988\n",
      "nubarTKE   |  A. Gook, F.-J. Hambsch, M. Vidali, 2014\n",
      "nubarTKE_A110 |  A. Gook, F.-J. Hambsch, M. Vidali, 2014\n",
      "nubarTKE_A122 |  A. Gook, F.-J. Hambsch, M. Vidali, 2014\n",
      "nubarTKE_A130 |  A. Gook, F.-J. Hambsch, M. Vidali, 2014\n",
      "nubarTKE_A142 |  A. Gook, F.-J. Hambsch, M. Vidali, 2014\n",
      "nLF        |  A. Skarsvag and K. Bergheim, 1963\n",
      "nLF        |  H. R. Bowman, S. G. Thompson, J. C. D. Milton, and W. J. Swiatecki, 1962\n",
      "nLF-A122   |  A. Gook, F.-J. Hambsch, M. Vidali, 2014\n",
      "nLF-A96    |  A. Gook, F.-J. Hambsch, M. Vidali, 2014\n",
      "nLF-A107   |  A. Gook, F.-J. Hambsch, M. Vidali, 2014\n",
      "nLF-A116   |  A. Gook, F.-J. Hambsch, M. Vidali, 2014\n",
      "nn         |  Pozzi et al., 2014\n",
      "Pnug       |  A. Oberstedt, R. Billnert, F.-J. Hambsch, S. Oberstedt, et al., 2015\n",
      "PFGS       |  Verbinski, 1973\n",
      "PFGS1      |  R. Billnert, F.-J. Hambsch, A. Oberstedt, and S. Oberstedt, 2013\n",
      "PFGS2      |  R. Billnert, F.-J. Hambsch, A. Oberstedt, and S. Oberstedt, 2013\n",
      "multiplicityRatio |  T. Wang et al., 2016\n",
      "PFGSvsA    |  A.Hotzel, P.Thirolf, Ch.Ender, D.Schwalm, M.Mutterer, P.Singer, M.Klemens, J.P.Theobald, M.Hesse, F.Goennenwein, H.v.d.Ploeg, 1996\n"
     ]
    }
   ],
   "source": [
    "fission.listExperimentalData(exp)"
   ]
  },
  {
   "cell_type": "markdown",
   "metadata": {},
   "source": [
    "You can limit the output to just one type of data. For instance, if one is only interested in checking out the mass yields, we would type:"
   ]
  },
  {
   "cell_type": "code",
   "execution_count": 12,
   "metadata": {},
   "outputs": [
    {
     "name": "stdout",
     "output_type": "stream",
     "text": [
      "YA         |  F.-J. Hambsch, S. Oberstedt, P. Siegler, J. van Arle, R. Vogt, 1997\n",
      "YA         |  C. Budtz-Joergensen and H.-H. Knitter, 1988\n",
      "YA         |  A. Gook, F.-J. Hambsch, M. Vidali, 2014\n",
      "YA         |  Sh. Zeynalov, F.-J.Hambsch, et al., 2011\n"
     ]
    }
   ],
   "source": [
    "fission.listExperimentalData (exp, quantity=\"YA\")"
   ]
  },
  {
   "cell_type": "code",
   "execution_count": null,
   "metadata": {
    "collapsed": true
   },
   "outputs": [],
   "source": []
  }
 ],
 "metadata": {
  "kernelspec": {
   "display_name": "Python 3",
   "language": "python",
   "name": "python3"
  },
  "language_info": {
   "codemirror_mode": {
    "name": "ipython",
    "version": 3
   },
   "file_extension": ".py",
   "mimetype": "text/x-python",
   "name": "python",
   "nbconvert_exporter": "python",
   "pygments_lexer": "ipython3",
   "version": "3.6.2"
  }
 },
 "nbformat": 4,
 "nbformat_minor": 2
}
