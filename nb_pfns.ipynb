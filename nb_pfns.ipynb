{
 "cells": [
  {
   "cell_type": "markdown",
   "metadata": {},
   "source": [
    "# Prompt Fission Neutron Spectrum"
   ]
  },
  {
   "cell_type": "code",
   "execution_count": 1,
   "metadata": {
    "code_folding": [
     0
    ],
    "collapsed": false
   },
   "outputs": [
    {
     "name": "stdout",
     "output_type": "stream",
     "text": [
      "Populating the interactive namespace from numpy and matplotlib\n"
     ]
    }
   ],
   "source": [
    "### initializations and import libraries\n",
    "import numpy as np\n",
    "import matplotlib.pyplot as plt\n",
    "import matplotlib.gridspec as gridspec\n",
    "%matplotlib inline\n",
    "%pylab inline\n",
    "\n",
    "#import fission.py #-- my own library\n",
    "sys.path.append('/Users/talou/git/evaluation-tools/')\n",
    "import fission as fission\n",
    "import fissionHistories as fh"
   ]
  },
  {
   "cell_type": "code",
   "execution_count": 2,
   "metadata": {
    "code_folding": [
     0
    ],
    "collapsed": false
   },
   "outputs": [
    {
     "name": "stdout",
     "output_type": "stream",
     "text": [
      "Matplotbib Version:  2.0.0\n"
     ]
    }
   ],
   "source": [
    "### rcParams are the default parameters for matplotlib\n",
    "import matplotlib as mpl\n",
    "\n",
    "print (\"Matplotbib Version: \", mpl.__version__)\n",
    "\n",
    "mpl.rcParams['font.size'] = 18\n",
    "mpl.rcParams['font.family'] = 'Helvetica', 'serif'\n",
    "#mpl.rcParams['font.color'] = 'darkred'\n",
    "mpl.rcParams['font.weight'] = 'normal'\n",
    "\n",
    "mpl.rcParams['axes.labelsize'] = 18.\n",
    "mpl.rcParams['xtick.labelsize'] = 18.\n",
    "mpl.rcParams['ytick.labelsize'] = 18.\n",
    "mpl.rcParams['lines.linewidth'] = 2.\n",
    "\n",
    "font = {'family' : 'serif',\n",
    "        'color'  : 'darkred',\n",
    "        'weight' : 'normal',\n",
    "        'size'   : 18,\n",
    "        }\n",
    "\n",
    "mpl.rcParams['xtick.major.pad']='10'\n",
    "mpl.rcParams['ytick.major.pad']='10'\n",
    "\n",
    "mpl.rcParams['image.cmap'] = 'inferno'"
   ]
  },
  {
   "cell_type": "markdown",
   "metadata": {},
   "source": [
    "First, we read the default CGMF output."
   ]
  },
  {
   "cell_type": "code",
   "execution_count": 3,
   "metadata": {
    "collapsed": false
   },
   "outputs": [],
   "source": [
    "h = fh.FissionHistories (\"cgmf-histories.dat\", fmt=\"new\")"
   ]
  },
  {
   "cell_type": "markdown",
   "metadata": {},
   "source": [
    "Neutron energies in the center-of-mass and laboratory reference frames can be obtained as:"
   ]
  },
  {
   "cell_type": "code",
   "execution_count": 4,
   "metadata": {
    "collapsed": false
   },
   "outputs": [],
   "source": [
    "Ecm  = h.getNeutronEcm()\n",
    "Elab = h.getNeutronElab()"
   ]
  },
  {
   "cell_type": "markdown",
   "metadata": {},
   "source": [
    "Extracting the list of neutron energies in the center-of-mass frame of the emitting fragment for the fission event number 154:"
   ]
  },
  {
   "cell_type": "code",
   "execution_count": 5,
   "metadata": {
    "collapsed": false
   },
   "outputs": [
    {
     "data": {
      "text/plain": [
       "[0.746, 0.582, 0.593, 1.111]"
      ]
     },
     "execution_count": 5,
     "metadata": {},
     "output_type": "execute_result"
    }
   ],
   "source": [
    "Ecm[154]"
   ]
  },
  {
   "cell_type": "markdown",
   "metadata": {},
   "source": [
    "All neutron energies can then be binned in histograms, and analyzed and plotted that way. The `CGMF` python package **fissionHistories** come with a function to directly extract PFNS:"
   ]
  },
  {
   "cell_type": "code",
   "execution_count": 6,
   "metadata": {
    "collapsed": true
   },
   "outputs": [],
   "source": [
    "eout,pfns =h.pfns()"
   ]
  },
  {
   "cell_type": "markdown",
   "metadata": {},
   "source": [
    "which returns two arrays: (1) the outgoing energy grid (in MeV); (2) the prompt fission neutron spectrum (in n/MeV/nu-bar). Here's how to plot the result:"
   ]
  },
  {
   "cell_type": "code",
   "execution_count": 7,
   "metadata": {
    "collapsed": false,
    "scrolled": true
   },
   "outputs": [
    {
     "data": {
      "image/png": "[encoded data removed]",
      "text/plain": [
       "<matplotlib.figure.Figure at 0x11c24fe10>"
      ]
     },
     "metadata": {},
     "output_type": "display_data"
    }
   ],
   "source": [
    "fig=figure(figsize(14,6))\n",
    "\n",
    "plt.subplot(1,2,1)\n",
    "plt.step(eout,pfns,'r-',linewidth=3)\n",
    "plt.xlim(0.1,20.0)\n",
    "plt.ylim(1e-5,1.0)\n",
    "plt.xlabel(\"Outgoing Neutron Energy (MeV)\")\n",
    "plt.ylabel(r\"PFNS (n/f/MeV/$\\overline{\\nu}$)\")\n",
    "plt.yscale('log')\n",
    "\n",
    "plt.subplot(1,2,2)\n",
    "plt.step(eout,pfns,'r-',linewidth=3)\n",
    "plt.xlim(0.1,20.0)\n",
    "plt.xscale('log')\n",
    "plt.xlabel(\"Outgoing Neutron Energy (MeV)\")\n",
    "plt.ylabel(r\"PFNS (n/f/MeV/$\\overline{\\nu}$)\")\n",
    "\n",
    "plt.tight_layout()\n",
    "plt.show()"
   ]
  },
  {
   "cell_type": "markdown",
   "metadata": {
    "collapsed": true
   },
   "source": [
    "Average neutron energies can be simply obtained as:"
   ]
  },
  {
   "cell_type": "code",
   "execution_count": 8,
   "metadata": {
    "collapsed": false
   },
   "outputs": [
    {
     "name": "stdout",
     "output_type": "stream",
     "text": [
      "1.33338324555 2.10256863337\n"
     ]
    }
   ],
   "source": [
    "print (h.meanNeutronEcm(),h.meanNeutronElab())"
   ]
  },
  {
   "cell_type": "markdown",
   "metadata": {},
   "source": [
    "or, equivalently:"
   ]
  },
  {
   "cell_type": "code",
   "execution_count": 9,
   "metadata": {
    "collapsed": false
   },
   "outputs": [
    {
     "name": "stdout",
     "output_type": "stream",
     "text": [
      "1.33338324555 2.10256863337\n"
     ]
    }
   ],
   "source": [
    "print (np.mean(Ecm.sum()), np.mean(Elab.sum()))"
   ]
  },
  {
   "cell_type": "code",
   "execution_count": null,
   "metadata": {
    "collapsed": true
   },
   "outputs": [],
   "source": []
  }
 ],
 "metadata": {
  "kernelspec": {
   "display_name": "Python 3",
   "language": "python",
   "name": "python3"
  },
  "language_info": {
   "codemirror_mode": {
    "name": "ipython",
    "version": 3
   },
   "file_extension": ".py",
   "mimetype": "text/x-python",
   "name": "python",
   "nbconvert_exporter": "python",
   "pygments_lexer": "ipython3",
   "version": "3.6.0"
  }
 },
 "nbformat": 4,
 "nbformat_minor": 2
}
