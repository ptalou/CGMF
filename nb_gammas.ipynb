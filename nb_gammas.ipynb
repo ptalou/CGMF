Analyzing Prompt Gamma Rays
===========================

Prompt gamma rays can be studied similarly to neutrons, although additional routines can be used to study gamma emissions between discrete states in specific fission fragments.
